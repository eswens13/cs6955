{
  "nbformat": 4,
  "nbformat_minor": 0,
  "metadata": {
    "colab": {
      "name": "swenson_homework1_svm.ipynb",
      "version": "0.3.2",
      "provenance": [],
      "collapsed_sections": [],
      "include_colab_link": true
    },
    "kernelspec": {
      "display_name": "Python 3",
      "language": "python",
      "name": "python3"
    },
    "accelerator": "GPU"
  },
  "cells": [
    {
      "cell_type": "markdown",
      "metadata": {
        "id": "view-in-github",
        "colab_type": "text"
      },
      "source": [
        "[View in Colaboratory](https://colab.research.google.com/github/eswens13/cs6955/blob/dev/hw1/swenson_homework1_svm.ipynb)"
      ]
    },
    {
      "metadata": {
        "id": "OZI6TD_XO5p9",
        "colab_type": "text"
      },
      "cell_type": "markdown",
      "source": [
        "# Homework 1: Classifiers"
      ]
    },
    {
      "metadata": {
        "id": "S4jwe7FoOMU2",
        "colab_type": "text"
      },
      "cell_type": "markdown",
      "source": [
        "# Linear Support Vector Machine (SVM) classifier\n",
        "\n",
        "In this exercise you will:\n",
        "    \n",
        "- implement a fully-vectorized **loss function** for the SVM\n",
        "- implement the fully-vectorized expression for its **analytic gradient**\n",
        "- **check your implementation** using numerical gradient\n",
        "- use a validation set to **tune the learning rate and regularization** strength\n",
        "- **optimize** the loss function with **SGD**\n",
        "- **visualize** the final learned weights\n"
      ]
    },
    {
      "metadata": {
        "id": "iCXYH6i5OMU3",
        "colab_type": "code",
        "colab": {}
      },
      "cell_type": "code",
      "source": [
        "import numpy as np\n",
        "import matplotlib.pyplot as plt\n",
        "import seaborn as sns\n",
        "\n",
        "sns.set()"
      ],
      "execution_count": 0,
      "outputs": []
    },
    {
      "metadata": {
        "id": "awwU3lohOMU7",
        "colab_type": "text"
      },
      "cell_type": "markdown",
      "source": [
        "## Load and preprocess CIFAR-10 dataset"
      ]
    },
    {
      "metadata": {
        "id": "id2N67NsPfm4",
        "colab_type": "code",
        "colab": {
          "base_uri": "https://localhost:8080/",
          "height": 170
        },
        "outputId": "0420bf67-cec6-4444-a504-ba872b2d9453"
      },
      "cell_type": "code",
      "source": [
        "from keras.datasets import cifar10\n",
        "\n",
        "def get_CIFAR10_data(num_training=49000, num_validation=1000,\n",
        "                     num_test=1000, num_dev=500):\n",
        "    \"\"\"\n",
        "    Load the CIFAR-10 dataset from disk and perform preprocessing to prepare\n",
        "    it for the linear classifier. These are the same steps as we used for the\n",
        "    SVM, but condensed to a single function.  \n",
        "    \"\"\"\n",
        "    # Load the raw CIFAR-10 data\n",
        "    (X_train, y_train), (X_test, y_test) = cifar10.load_data()\n",
        "    \n",
        "    # All the data comes in the uint8 format, so we need to convert\n",
        "    # it to floats so that we compute numbers greater than 255.\n",
        "    X_train = X_train.astype(np.float)\n",
        "    X_test = X_test.astype(np.float)\n",
        "    # Also, for convenience we flatten the class arrays.\n",
        "    y_train = y_train.flatten()\n",
        "    y_test = y_test.flatten()\n",
        "    \n",
        "    # Split the data into train, val, and test sets. In addition we will\n",
        "    # create a small development set as a subset of the training data;\n",
        "    # we can use this for development so our code runs faster.\n",
        "    \n",
        "    # Our validation set will be num_validation points from the original\n",
        "    # training set.\n",
        "    mask = list(range(num_training, num_training + num_validation))\n",
        "    X_val = X_train[mask]\n",
        "    y_val = y_train[mask]\n",
        "    \n",
        "    # Our training set will be the first num_train points from the original\n",
        "    # training set.\n",
        "    mask = list(range(num_training))\n",
        "    X_train = X_train[mask]\n",
        "    y_train = y_train[mask]\n",
        "    \n",
        "    # We will also make a development set, which is a small subset of\n",
        "    # the training set.\n",
        "    mask = np.random.choice(num_training, num_dev, replace=False)\n",
        "    X_dev = X_train[mask]\n",
        "    y_dev = y_train[mask]\n",
        "    \n",
        "    # We use the first num_test points of the original test set as our\n",
        "    # test set.\n",
        "    mask = list(range(num_test))\n",
        "    X_test = X_test[mask]\n",
        "    y_test = y_test[mask]\n",
        "    \n",
        "    # Preprocessing: reshape the image data into rows\n",
        "    X_train = np.reshape(X_train, (X_train.shape[0], -1))\n",
        "    X_val = np.reshape(X_val, (X_val.shape[0], -1))\n",
        "    X_test = np.reshape(X_test, (X_test.shape[0], -1))\n",
        "    X_dev = np.reshape(X_dev, (X_dev.shape[0], -1))\n",
        "    \n",
        "    # Normalize the data: subtract the mean image\n",
        "    mean_image = np.mean(X_train, axis = 0)\n",
        "    X_train -= mean_image\n",
        "    X_val -= mean_image\n",
        "    X_test -= mean_image\n",
        "    X_dev -= mean_image\n",
        "    \n",
        "    # third: append the bias dimension of ones (i.e. bias trick) so that our SVM\n",
        "    # only has to worry about optimizing a single weight matrix W.\n",
        "    X_train = np.hstack([X_train, np.ones((X_train.shape[0], 1))])\n",
        "    X_val = np.hstack([X_val, np.ones((X_val.shape[0], 1))])\n",
        "    X_test = np.hstack([X_test, np.ones((X_test.shape[0], 1))])\n",
        "    X_dev = np.hstack([X_dev, np.ones((X_dev.shape[0], 1))])\n",
        "    \n",
        "    return X_train, y_train, X_val, y_val, X_test, y_test, X_dev, y_dev\n",
        "\n",
        "\n",
        "# Invoke the above function to get our data.\n",
        "X_train, y_train, X_val, y_val, X_test, y_test, X_dev, y_dev = get_CIFAR10_data()\n",
        "print('Train data shape: ', X_train.shape)\n",
        "print('Train labels shape: ', y_train.shape)\n",
        "print('Validation data shape: ', X_val.shape)\n",
        "print('Validation labels shape: ', y_val.shape)\n",
        "print('Test data shape: ', X_test.shape)\n",
        "print('Test labels shape: ', y_test.shape)\n",
        "print('dev data shape: ', X_dev.shape)\n",
        "print('dev labels shape: ', y_dev.shape)"
      ],
      "execution_count": 2,
      "outputs": [
        {
          "output_type": "stream",
          "text": [
            "Using TensorFlow backend.\n"
          ],
          "name": "stderr"
        },
        {
          "output_type": "stream",
          "text": [
            "Train data shape:  (49000, 3073)\n",
            "Train labels shape:  (49000,)\n",
            "Validation data shape:  (1000, 3073)\n",
            "Validation labels shape:  (1000,)\n",
            "Test data shape:  (1000, 3073)\n",
            "Test labels shape:  (1000,)\n",
            "dev data shape:  (500, 3073)\n",
            "dev labels shape:  (500,)\n"
          ],
          "name": "stdout"
        }
      ]
    },
    {
      "metadata": {
        "id": "WsA0GJvKOMVR",
        "colab_type": "text"
      },
      "cell_type": "markdown",
      "source": [
        "## Define a naive SVM classifier loss function\n",
        "\n",
        "Next we define the SVM loss function.  This will be a naive implementation using loops.  Most of the code for this loss function already exists, but you will need to write code of your own to finish it.  Follow the instructions in the TODO section.\n",
        "\n",
        "Recall that the contribution of a training point $(x_i, y_i)$ to the SVM loss function is\n",
        "\n",
        "$$L_i = \\sum_{j \\neq y_i} \\max(0, s_j− s_{y_i} + \\Delta)$$\n",
        "\n",
        "where $\\Delta$ is the *margin*.  The loss function encourages the score $s_{y_i}$ of the correct class $y_i$ to be larger than any of the other scores $s_j$ by at least the margin $\\Delta$.  The score $s$ is parametrized by\n",
        "a linear function $s_j = xW_j$ where $x$ is a single data sample and $W_j$ is the $j$th column of $W$.\n",
        "\n",
        "![margin](http://cs231n.github.io/assets/margin.jpg)"
      ]
    },
    {
      "metadata": {
        "id": "mGC3rwO7TTY3",
        "colab_type": "code",
        "colab": {}
      },
      "cell_type": "code",
      "source": [
        "def svm_loss_naive(W, X, y, reg):\n",
        "  \"\"\"\n",
        "  Structured SVM loss function, naive implementation (with loops).\n",
        "\n",
        "  Inputs have dimension D, there are C classes, and we operate on minibatches\n",
        "  of N examples.\n",
        "\n",
        "  Inputs:\n",
        "  - W: A numpy array of shape (D, C) containing weights.\n",
        "  - X: A numpy array of shape (N, D) containing a minibatch of data.\n",
        "  - y: A numpy array of shape (N,) containing training labels; y[i] = c means\n",
        "    that X[i] has label c, where 0 <= c < C.\n",
        "  - reg: (float) regularization strength\n",
        "\n",
        "  Returns a tuple of:\n",
        "  - loss as single float\n",
        "  - gradient with respect to weights W; an array of same shape as W\n",
        "  \"\"\"\n",
        "  dW = np.zeros(W.shape) # initialize the gradient as zero\n",
        "\n",
        "  # compute the loss and the gradient\n",
        "  num_classes = W.shape[1]\n",
        "  num_train = X.shape[0]\n",
        "  loss = 0.0\n",
        "  for i in range(num_train):\n",
        "    scores = X[i].dot(W)\n",
        "    correct_class_score = scores[y[i]]\n",
        "    for j in range(num_classes):\n",
        "      if j == y[i]:\n",
        "        continue\n",
        "      margin = scores[j] - correct_class_score + 1 # note delta = 1\n",
        "      if margin > 0:\n",
        "        # Two pieces to the derivative (with respect to weights). First is just\n",
        "        # the derivative of the multiplication to get the score for the (i, j)th\n",
        "        # element (s_j above).\n",
        "        dW[:,j] += X[i]\n",
        "        \n",
        "        # Next is the derivative (again with respect to weights) from (s_yi)\n",
        "        # above.\n",
        "        dW[:,y[i]] -= X[i]\n",
        "        loss += margin\n",
        "      else:\n",
        "        # In this case, derivative is just zero?\n",
        "        pass\n",
        "\n",
        "  # Right now the loss is a sum over all training examples, but we want it\n",
        "  # to be an average instead so we divide by num_train.\n",
        "  loss /= num_train\n",
        "  \n",
        "  # Add regularization to the loss.\n",
        "  loss += reg * np.sum(W * W)\n",
        "\n",
        "  #############################################################################\n",
        "  # TODO:                                                                     #\n",
        "  # Compute the gradient of the loss function and store it dW.                #\n",
        "  # Rather than first computing the loss and then computing the derivative,   #\n",
        "  # it may be simpler to compute the derivative at the same time that the     #\n",
        "  # loss is being computed. As a result you may need to modify some of the    #\n",
        "  # code above to compute the gradient.                                       #\n",
        "  #############################################################################\n",
        "\n",
        "  # Make sure ALL the pieces of the loss function are accounted for in the\n",
        "  # derivative.\n",
        "  dW /= num_train\n",
        "  dW += reg * 2.0 * W\n",
        "\n",
        "  return loss, dW"
      ],
      "execution_count": 0,
      "outputs": []
    },
    {
      "metadata": {
        "id": "2t9nwfXJOMVR",
        "colab_type": "code",
        "colab": {
          "base_uri": "https://localhost:8080/",
          "height": 34
        },
        "outputId": "5715fd7b-c4dc-446d-d842-2849b64f2f1d"
      },
      "cell_type": "code",
      "source": [
        "# Evaluate the naive implementation of the SVM loss\n",
        "import time\n",
        "\n",
        "# generate a random SVM weight matrix of small numbers\n",
        "W = np.random.randn(3073, 10) * 0.0001 \n",
        "\n",
        "loss, grad = svm_loss_naive(W, X_dev, y_dev, 0.000005)\n",
        "print('loss: %f' % (loss, ))"
      ],
      "execution_count": 4,
      "outputs": [
        {
          "output_type": "stream",
          "text": [
            "loss: 8.488755\n"
          ],
          "name": "stdout"
        }
      ]
    },
    {
      "metadata": {
        "id": "bz8dvNLdOMVW",
        "colab_type": "text"
      },
      "cell_type": "markdown",
      "source": [
        "To check that you have implemented the gradient correctly, you can numerically estimate the gradient of the loss function and compare the numeric estimate to the gradient that you computed. We have provided code that does this for you:"
      ]
    },
    {
      "metadata": {
        "id": "6YBaXemDVM_s",
        "colab_type": "code",
        "colab": {
          "base_uri": "https://localhost:8080/",
          "height": 357
        },
        "outputId": "f22d7d73-0da4-488a-9bd0-4bc278dc0191"
      },
      "cell_type": "code",
      "source": [
        "def grad_check_sparse(f, x, analytic_grad, num_checks=10, h=1e-5):\n",
        "  \"\"\"\n",
        "  sample a few random elements and only return numerical\n",
        "  in this dimensions.\n",
        "  \"\"\"\n",
        "\n",
        "  for i in range(num_checks):\n",
        "    ix = tuple([np.random.randint(m) for m in x.shape])\n",
        "\n",
        "    oldval = x[ix]\n",
        "    x[ix] = oldval + h # increment by h\n",
        "    fxph = f(x) # evaluate f(x + h)\n",
        "    x[ix] = oldval - h # increment by h\n",
        "    fxmh = f(x) # evaluate f(x - h)\n",
        "    x[ix] = oldval # reset\n",
        "\n",
        "    grad_numerical = (fxph - fxmh) / (2 * h)\n",
        "    grad_analytic = analytic_grad[ix]\n",
        "    rel_error = abs(grad_numerical - grad_analytic) / (abs(grad_numerical) + abs(grad_analytic))\n",
        "    print('numerical: %f analytic: %f, relative error: %e' % (grad_numerical, grad_analytic, rel_error))\n",
        "    \n",
        "# Once you've implemented the gradient, recompute it with the code below\n",
        "# and gradient check it with the function we provided for you\n",
        "\n",
        "# Compute the loss and its gradient at W.\n",
        "loss, grad = svm_loss_naive(W, X_dev, y_dev, 0.0)\n",
        "\n",
        "# Numerically compute the gradient along several randomly chosen dimensions, and\n",
        "# compare them with your analytically computed gradient. The numbers should match\n",
        "# almost exactly along all dimensions.\n",
        "f = lambda w: svm_loss_naive(w, X_dev, y_dev, 0.0)[0]\n",
        "grad_numerical = grad_check_sparse(f, W, grad)\n",
        "\n",
        "# do the gradient check once again with regularization turned on\n",
        "# you didn't forget the regularization gradient did you?\n",
        "loss, grad = svm_loss_naive(W, X_dev, y_dev, 5e1)\n",
        "f = lambda w: svm_loss_naive(w, X_dev, y_dev, 5e1)[0]\n",
        "grad_numerical = grad_check_sparse(f, W, grad)"
      ],
      "execution_count": 5,
      "outputs": [
        {
          "output_type": "stream",
          "text": [
            "numerical: -1.892747 analytic: -1.892747, relative error: 3.004365e-10\n",
            "numerical: 8.579864 analytic: 8.579864, relative error: 1.278656e-11\n",
            "numerical: 3.829178 analytic: 3.829178, relative error: 8.806103e-11\n",
            "numerical: 27.293379 analytic: 27.293379, relative error: 9.330934e-12\n",
            "numerical: -36.029143 analytic: -35.996897, relative error: 4.476952e-04\n",
            "numerical: -18.377773 analytic: -18.377773, relative error: 1.130917e-11\n",
            "numerical: 28.555177 analytic: 28.555177, relative error: 5.947384e-12\n",
            "numerical: 29.339742 analytic: 29.339742, relative error: 3.291435e-12\n",
            "numerical: 9.377791 analytic: 9.377791, relative error: 1.334798e-11\n",
            "numerical: 9.085563 analytic: 9.085563, relative error: 6.356852e-12\n",
            "numerical: 38.103618 analytic: 38.103618, relative error: 4.812957e-12\n",
            "numerical: 20.299861 analytic: 20.299861, relative error: 1.751649e-11\n",
            "numerical: 4.144442 analytic: 4.144442, relative error: 4.313399e-11\n",
            "numerical: 2.788716 analytic: 2.788716, relative error: 5.721618e-11\n",
            "numerical: -35.580001 analytic: -35.580001, relative error: 8.363255e-12\n",
            "numerical: 0.860650 analytic: 0.860650, relative error: 5.760351e-11\n",
            "numerical: -17.019139 analytic: -17.019139, relative error: 1.328066e-11\n",
            "numerical: -5.389762 analytic: -5.389762, relative error: 4.433425e-12\n",
            "numerical: 4.023454 analytic: 4.023454, relative error: 5.515014e-11\n",
            "numerical: -17.814611 analytic: -17.814611, relative error: 1.449425e-11\n"
          ],
          "name": "stdout"
        }
      ]
    },
    {
      "metadata": {
        "id": "Hvd_VaMEOMVa",
        "colab_type": "text"
      },
      "cell_type": "markdown",
      "source": [
        "### Inline Question 1:\n",
        "It is possible that once in a while a dimension in the gradcheck will not match exactly. What could such a discrepancy be caused by? Is it a reason for concern? What is a simple example in one dimension where a gradient check could fail? *Hint: the SVM loss function is not strictly speaking differentiable*\n",
        "\n",
        "**Your Answer:** *fill this in.*"
      ]
    },
    {
      "metadata": {
        "id": "o6HmrLW9gad-",
        "colab_type": "text"
      },
      "cell_type": "markdown",
      "source": [
        "## Define a vectorized SVM classifier loss function\n",
        "\n",
        "Next we define the vectorized (i.e. no loops) version of the SVM loss function.  Most of the code for this loss function already exists, but you will need to write code of your own to finish it.  Follow the instructions in the TODO section."
      ]
    },
    {
      "metadata": {
        "id": "0f0qcprBTcQ_",
        "colab_type": "code",
        "colab": {}
      },
      "cell_type": "code",
      "source": [
        "def svm_loss_vectorized(W, X, y, reg):\n",
        "  \"\"\"\n",
        "  Structured SVM loss function, vectorized implementation.\n",
        "\n",
        "  Inputs and outputs are the same as svm_loss_naive.\n",
        "  \"\"\"\n",
        "  loss = 0.0\n",
        "  dW = np.zeros(W.shape) # initialize the gradient as zero\n",
        "\n",
        "  #############################################################################\n",
        "  # TODO:                                                                     #\n",
        "  # Implement a vectorized form of the SVM loss, storing the result in loss.  #\n",
        "  #                                                                           #\n",
        "  #############################################################################\n",
        "  \n",
        "  # Get the matrix of scores\n",
        "  scores = np.dot(X, W)\n",
        "  \n",
        "  # Now, create a column vector where each element is the score value for the \n",
        "  # correct label of the particular sample.\n",
        "  #\n",
        "  # Python broadcasting ninja move taken from Stanford's CS231n course. But I\n",
        "  # came up with the concept on my own.\n",
        "  cs_vec = scores[np.arange(0, X.shape[0]), y]\n",
        "  \n",
        "  # Now, create a matrix where each element (i, j) is the loss contribution from\n",
        "  # the jth element of the ith sample. (This includes the contributions from the\n",
        "  # scores of the correct label indices.)\n",
        "  L_m = np.maximum(scores - cs_vec[:, np.newaxis] + 1, 0)\n",
        "  \n",
        "  # We want to subtract the contributions from the scores for correct labels, so\n",
        "  # zero out all such elements.\n",
        "  #\n",
        "  # Same Python ninja move as stated above.\n",
        "  L_m[np.arange(0, X.shape[0]), y] = 0\n",
        "  \n",
        "  # Create a mask matrix that has ones wherever the L_m matrix is non-zero.\n",
        "  # We will use this for the gradients.\n",
        "  non_zero_inds = np.where( L_m > 0 )\n",
        "  mask_mat = np.zeros(L_m.shape)\n",
        "  mask_mat[non_zero_inds[0], non_zero_inds[1]] = 1\n",
        "  \n",
        "  # The loss is the sum of all the contributions.\n",
        "  loss = np.mean(np.sum(L_m, axis=1))\n",
        "  loss += reg * np.sum(np.square(W))\n",
        "  \n",
        "  #############################################################################\n",
        "  #                             END OF YOUR CODE                              #\n",
        "  #############################################################################\n",
        "\n",
        "\n",
        "  #############################################################################\n",
        "  # TODO:                                                                     #\n",
        "  # Implement a vectorized version of the gradient for the SVM loss,          #\n",
        "  # storing the result in dW.                                                 #\n",
        "  #                                                                           #\n",
        "  # Hint: Instead of computing the gradient from scratch, it may be easier    #\n",
        "  # to reuse some of the intermediate values that you used to compute the     #\n",
        "  # loss.                                                                     #\n",
        "  #############################################################################\n",
        "\n",
        "  # Sum across rows of the mask to figure out how many times we subtract the ith\n",
        "  # sample from the y[i]th column of the weights matrix.\n",
        "  sums = np.sum(mask_mat, axis=1)\n",
        "  mask_mat[np.arange(X.shape[0]), y] -= sums\n",
        "  \n",
        "  # Now each (i, j) element of our mask reflects the contribution of sample i\n",
        "  # to the gradient with respect to the jth column of W.\n",
        "  dW = np.dot(X.T, mask_mat)\n",
        "  \n",
        "  # The loss was multiplied by a constant factor (propagated in derivative).\n",
        "  dW /= X.shape[0]\n",
        "  \n",
        "  # Add the gradient of the regularization term.\n",
        "  dW += 2 * reg * W\n",
        "\n",
        "  #############################################################################\n",
        "  #                             END OF YOUR CODE                              #\n",
        "  #############################################################################\n",
        "\n",
        "  return loss, dW"
      ],
      "execution_count": 0,
      "outputs": []
    },
    {
      "metadata": {
        "id": "uwqzu77bOMVb",
        "colab_type": "code",
        "colab": {
          "base_uri": "https://localhost:8080/",
          "height": 68
        },
        "outputId": "f40be624-7275-4ad7-c4a8-f173b8bb2392"
      },
      "cell_type": "code",
      "source": [
        "# Evaluate the naive implementation of the SVM loss\n",
        "tic = time.time()\n",
        "loss_naive, grad_naive = svm_loss_naive(W, X_dev, y_dev, 0.000005)\n",
        "toc = time.time()\n",
        "print('Naive loss: %e computed in %fs' % (loss_naive, toc - tic))\n",
        "\n",
        "# Evaluate the vectorized implementation of the SVM loss\n",
        "tic = time.time()\n",
        "loss_vectorized, _ = svm_loss_vectorized(W, X_dev, y_dev, 0.000005)\n",
        "toc = time.time()\n",
        "print('Vectorized loss: %e computed in %fs' % (loss_vectorized, toc - tic))\n",
        "\n",
        "# The losses should match but your vectorized implementation should be much faster.\n",
        "print('difference: %f' % (loss_naive - loss_vectorized))"
      ],
      "execution_count": 7,
      "outputs": [
        {
          "output_type": "stream",
          "text": [
            "Naive loss: 8.488755e+00 computed in 0.246341s\n",
            "Vectorized loss: 8.488755e+00 computed in 0.014218s\n",
            "difference: 0.000000\n"
          ],
          "name": "stdout"
        }
      ]
    },
    {
      "metadata": {
        "id": "TLTsNqnqOMVe",
        "colab_type": "code",
        "colab": {
          "base_uri": "https://localhost:8080/",
          "height": 68
        },
        "outputId": "39b04d91-5652-47d2-9d34-477c132c4ea0"
      },
      "cell_type": "code",
      "source": [
        "# Evaluate the naive implementation of the SVM gradients\n",
        "\n",
        "# The naive implementation and the vectorized implementation should match, but\n",
        "# the vectorized version should still be much faster.\n",
        "tic = time.time()\n",
        "_, grad_naive = svm_loss_naive(W, X_dev, y_dev, 0.000005)\n",
        "toc = time.time()\n",
        "print('Naive loss and gradient: computed in %fs' % (toc - tic))\n",
        "\n",
        "tic = time.time()\n",
        "_, grad_vectorized = svm_loss_vectorized(W, X_dev, y_dev, 0.000005)\n",
        "toc = time.time()\n",
        "print('Vectorized loss and gradient: computed in %fs' % (toc - tic))\n",
        "\n",
        "# The loss is a single number, so it is easy to compare the values computed\n",
        "# by the two implementations. The gradient on the other hand is a matrix, so\n",
        "# we use the Frobenius norm to compare them.\n",
        "difference = np.linalg.norm(grad_naive - grad_vectorized, ord='fro')\n",
        "print('difference: %f' % difference)"
      ],
      "execution_count": 8,
      "outputs": [
        {
          "output_type": "stream",
          "text": [
            "Naive loss and gradient: computed in 0.248500s\n",
            "Vectorized loss and gradient: computed in 0.011418s\n",
            "difference: 0.000000\n"
          ],
          "name": "stdout"
        }
      ]
    },
    {
      "metadata": {
        "id": "mg7WN3GnOMVi",
        "colab_type": "text"
      },
      "cell_type": "markdown",
      "source": [
        "## Stochastic Gradient Descent\n",
        "\n",
        "We now have vectorized and efficient expressions for the loss, the gradient and our gradient matches the numerical gradient. We are therefore ready to do SGD to minimize the loss.  Follow the instructions in the TODO sections."
      ]
    },
    {
      "metadata": {
        "id": "1guPOQKpXnUd",
        "colab_type": "code",
        "colab": {}
      },
      "cell_type": "code",
      "source": [
        "class SVM(object):\n",
        "\n",
        "  def __init__(self):\n",
        "    self.W = None\n",
        "\n",
        "  def train(self, X, y, learning_rate=1e-3, reg=1e-5, num_iters=100,\n",
        "            batch_size=200, verbose=False):\n",
        "    \"\"\"\n",
        "    Train this linear classifier using stochastic gradient descent.\n",
        "\n",
        "    Inputs:\n",
        "    - X: A numpy array of shape (N, D) containing training data; there are N\n",
        "      training samples each of dimension D.\n",
        "    - y: A numpy array of shape (N,) containing training labels; y[i] = c\n",
        "      means that X[i] has label 0 <= c < C for C classes.\n",
        "    - learning_rate: (float) learning rate for optimization.\n",
        "    - reg: (float) regularization strength.\n",
        "    - num_iters: (integer) number of steps to take when optimizing\n",
        "    - batch_size: (integer) number of training examples to use at each step.\n",
        "    - verbose: (boolean) If true, print progress during optimization.\n",
        "\n",
        "    Outputs:\n",
        "    A list containing the value of the loss function at each training iteration.\n",
        "    \"\"\"\n",
        "    num_train, dim = X.shape\n",
        "    num_classes = np.max(y) + 1 # assume y takes values 0...K-1 where K is number of classes\n",
        "    if self.W is None:\n",
        "      # lazily initialize W\n",
        "      self.W = 0.001 * np.random.randn(dim, num_classes)\n",
        "\n",
        "    # Run stochastic gradient descent to optimize W\n",
        "    loss_history = []\n",
        "    for it in range(num_iters):\n",
        "      X_batch = None\n",
        "      y_batch = None\n",
        "\n",
        "      #########################################################################\n",
        "      # TODO:                                                                 #\n",
        "      # Sample batch_size elements from the training data and their           #\n",
        "      # corresponding labels to use in this round of gradient descent.        #\n",
        "      # Store the data in X_batch and their corresponding labels in           #\n",
        "      # y_batch; after sampling X_batch should have shape (dim, batch_size)   #\n",
        "      # and y_batch should have shape (batch_size,)                           #\n",
        "      #                                                                       #\n",
        "      # Hint: Use np.random.choice to generate indices. Sampling with         #\n",
        "      # replacement is faster than sampling without replacement.              #\n",
        "      #########################################################################\n",
        "      \n",
        "      # Pick a minibatch of indices.\n",
        "      inds = np.random.choice(X.shape[0], size=batch_size)       \n",
        "      X_batch = X[inds, :]\n",
        "      y_batch = y[inds]\n",
        "      \n",
        "      #########################################################################\n",
        "      #                       END OF YOUR CODE                                #\n",
        "      #########################################################################\n",
        "\n",
        "      # evaluate loss and gradient\n",
        "      loss, grad = self.loss(X_batch, y_batch, reg)\n",
        "      loss_history.append(loss)\n",
        "\n",
        "      # perform parameter update\n",
        "      #########################################################################\n",
        "      # TODO:                                                                 #\n",
        "      # Update the weights using the gradient and the learning rate.          #\n",
        "      #########################################################################\n",
        "      \n",
        "      # Remember to go in the opposite direction of the gradient.\n",
        "      self.W -= grad * learning_rate\n",
        "      \n",
        "      #########################################################################\n",
        "      #                       END OF YOUR CODE                                #\n",
        "      #########################################################################\n",
        "\n",
        "      if verbose and it % 100 == 0:\n",
        "        print('iteration %d / %d: loss %f' % (it, num_iters, loss))\n",
        "\n",
        "    return loss_history\n",
        "\n",
        "  def predict(self, X):\n",
        "    \"\"\"\n",
        "    Use the trained weights of this linear classifier to predict labels for\n",
        "    data points.\n",
        "\n",
        "    Inputs:\n",
        "    - X: A numpy array of shape (N, D) containing training data; there are N\n",
        "      training samples each of dimension D.\n",
        "\n",
        "    Returns:\n",
        "    - y_pred: Predicted labels for the data in X. y_pred is a 1-dimensional\n",
        "      array of length N, and each element is an integer giving the predicted\n",
        "      class.\n",
        "    \"\"\"\n",
        "    y_pred = np.zeros(X.shape[0])\n",
        "    ###########################################################################\n",
        "    # TODO:                                                                   #\n",
        "    # Implement this method. Store the predicted labels in y_pred.            #\n",
        "    ###########################################################################\n",
        "    y_pred = np.argmax(np.dot(X, self.W), axis=1)\n",
        "    ###########################################################################\n",
        "    #                           END OF YOUR CODE                              #\n",
        "    ###########################################################################\n",
        "    return y_pred\n",
        "  \n",
        "  def loss(self, X_batch, y_batch, reg):\n",
        "    \"\"\"\n",
        "    Compute the loss function and its derivative. \n",
        "    Subclasses will override this.\n",
        "\n",
        "    Inputs:\n",
        "    - X_batch: A numpy array of shape (N, D) containing a minibatch of N\n",
        "      data points; each point has dimension D.\n",
        "    - y_batch: A numpy array of shape (N,) containing labels for the minibatch.\n",
        "    - reg: (float) regularization strength.\n",
        "\n",
        "    Returns: A tuple containing:\n",
        "    - loss as a single float\n",
        "    - gradient with respect to self.W; an array of the same shape as W\n",
        "    \"\"\"\n",
        "    return svm_loss_vectorized(self.W, X_batch, y_batch, reg)"
      ],
      "execution_count": 0,
      "outputs": []
    },
    {
      "metadata": {
        "id": "ZriZodeKOMVj",
        "colab_type": "code",
        "colab": {
          "base_uri": "https://localhost:8080/",
          "height": 289
        },
        "outputId": "1a6e7d2e-5051-4d0d-bcc8-b97973bc6208"
      },
      "cell_type": "code",
      "source": [
        "# Implement SGD in the function SVM.train() and then run it with the code below.\n",
        "svm = SVM()\n",
        "tic = time.time()\n",
        "loss_hist = svm.train(X_train, y_train, learning_rate=1e-7, reg=2.5e4,\n",
        "                      num_iters=1500, verbose=True)\n",
        "toc = time.time()\n",
        "print('That took %fs' % (toc - tic))"
      ],
      "execution_count": 21,
      "outputs": [
        {
          "output_type": "stream",
          "text": [
            "iteration 0 / 1500: loss 796.877461\n",
            "iteration 100 / 1500: loss 289.848528\n",
            "iteration 200 / 1500: loss 109.001588\n",
            "iteration 300 / 1500: loss 42.747793\n",
            "iteration 400 / 1500: loss 18.593968\n",
            "iteration 500 / 1500: loss 10.361514\n",
            "iteration 600 / 1500: loss 7.169775\n",
            "iteration 700 / 1500: loss 5.970079\n",
            "iteration 800 / 1500: loss 5.620027\n",
            "iteration 900 / 1500: loss 5.909294\n",
            "iteration 1000 / 1500: loss 5.573065\n",
            "iteration 1100 / 1500: loss 5.154188\n",
            "iteration 1200 / 1500: loss 5.117800\n",
            "iteration 1300 / 1500: loss 5.408101\n",
            "iteration 1400 / 1500: loss 5.445592\n",
            "That took 9.290777s\n"
          ],
          "name": "stdout"
        }
      ]
    },
    {
      "metadata": {
        "id": "qIZ965oDOMVn",
        "colab_type": "code",
        "colab": {
          "base_uri": "https://localhost:8080/",
          "height": 361
        },
        "outputId": "e0205881-78d6-4a6c-c370-34c76b2c86d2"
      },
      "cell_type": "code",
      "source": [
        "# A useful debugging strategy is to plot the loss as a function of\n",
        "# iteration number:\n",
        "plt.plot(loss_hist)\n",
        "plt.xlabel('Iteration number')\n",
        "plt.ylabel('Loss value')\n",
        "plt.show()"
      ],
      "execution_count": 22,
      "outputs": [
        {
          "output_type": "display_data",
          "data": {
            "image/png": "[encoded data removed]",
            "text/plain": [
              "<matplotlib.figure.Figure at 0x7f39a48b4dd8>"
            ]
          },
          "metadata": {
            "tags": []
          }
        }
      ]
    },
    {
      "metadata": {
        "id": "bV-KJB5tOMVr",
        "colab_type": "code",
        "colab": {
          "base_uri": "https://localhost:8080/",
          "height": 51
        },
        "outputId": "1205e2d2-ed7e-4d9b-e130-5f30f897ffa8"
      },
      "cell_type": "code",
      "source": [
        "# Write the SVM.predict function and evaluate the performance on both the\n",
        "# training and validation set\n",
        "y_train_pred = svm.predict(X_train)\n",
        "print('training accuracy: %f' % (np.mean(y_train == y_train_pred), ))\n",
        "y_val_pred = svm.predict(X_val)\n",
        "print('validation accuracy: %f' % (np.mean(y_val == y_val_pred), ))"
      ],
      "execution_count": 23,
      "outputs": [
        {
          "output_type": "stream",
          "text": [
            "training accuracy: 0.369408\n",
            "validation accuracy: 0.388000\n"
          ],
          "name": "stdout"
        }
      ]
    },
    {
      "metadata": {
        "id": "GAhbzTJiOMVu",
        "colab_type": "code",
        "colab": {
          "base_uri": "https://localhost:8080/",
          "height": 1309
        },
        "outputId": "fb123c3f-9bd4-4355-b1ce-c81a5003b523"
      },
      "cell_type": "code",
      "source": [
        "# Use the validation set to tune hyperparameters (regularization strength and\n",
        "# learning rate). You should experiment with different ranges for the learning\n",
        "# rates and regularization strengths; if you are careful you should be able to\n",
        "# get a classification accuracy of about 0.4 on the validation set.\n",
        "learning_rates = [1e-8, 1e-7]\n",
        "regularization_strengths = [1e4, 3e4]\n",
        "\n",
        "# results is dictionary mapping tuples of the form\n",
        "# (learning_rate, regularization_strength) to tuples of the form\n",
        "# (training_accuracy, validation_accuracy). The accuracy is simply the fraction\n",
        "# of data points that are correctly classified.\n",
        "results = {}\n",
        "best_val = -1   # The highest validation accuracy that we have seen so far.\n",
        "best_svm = None # The LinearSVM object that achieved the highest validation rate.\n",
        "\n",
        "################################################################################\n",
        "# TODO:                                                                        #\n",
        "# Write code that chooses the best hyperparameters by tuning on the validation #\n",
        "# set. For each combination of hyperparameters, train a linear SVM on the      #\n",
        "# training set, compute its accuracy on the training and validation sets, and  #\n",
        "# store these numbers in the results dictionary. In addition, store the best   #\n",
        "# validation accuracy in best_val and the LinearSVM object that achieves this  #\n",
        "# accuracy in best_svm.                                                        #\n",
        "#                                                                              #\n",
        "# Hint: You should use a small value for num_iters as you develop your         #\n",
        "# validation code so that the SVMs don't take much time to train; once you are #\n",
        "# confident that your validation code works, you should rerun the validation   #\n",
        "# code with a larger value for num_iters.                                      #\n",
        "################################################################################\n",
        "\n",
        "# Set up ranges of learning rates.\n",
        "lr_step = (learning_rates[1] - learning_rates[0]) / 5.0\n",
        "my_lr = np.arange(learning_rates[0], learning_rates[1], lr_step)\n",
        "\n",
        "# Set up ranges of regularization strengths\n",
        "reg_step = (regularization_strengths[1] - regularization_strengths[0]) / 5.0\n",
        "my_reg = np.arange(regularization_strengths[0], regularization_strengths[1], reg_step)\n",
        "\n",
        "# Syntax reminder\n",
        "# def train(self, X, y, learning_rate=1e-3, reg=1e-5, num_iters=100,\n",
        "#            batch_size=200, verbose=False):\n",
        "  \n",
        "total_svms = len(my_lr) * len(my_reg)\n",
        "curr_svm = 1\n",
        "for i in my_lr:\n",
        "  for j in my_reg:\n",
        "    print(\"Training SVM {} out of {}\".format(curr_svm, total_svms))\n",
        "    my_svm = SVM()\n",
        "    _ = my_svm.train(X_train, y_train, learning_rate=i, reg=j, num_iters=2000)\n",
        "    train_pred_y = my_svm.predict(X_train)\n",
        "    val_pred_y = my_svm.predict(X_val)\n",
        "    train_acc = np.mean(y_train == train_pred_y)\n",
        "    val_acc = np.mean(y_val == val_pred_y)\n",
        "    print(\"\\tVal Accuracy: {}\".format(val_acc))\n",
        "    \n",
        "    hyperparam_tup = (i, j)\n",
        "    acc_tup = (train_acc, val_acc)\n",
        "    results[hyperparam_tup] = acc_tup\n",
        "    \n",
        "    if (val_acc > best_val):\n",
        "        best_val = val_acc\n",
        "        best_svm = my_svm\n",
        "    \n",
        "    curr_svm += 1\n",
        "\n",
        "################################################################################\n",
        "#                              END OF YOUR CODE                                #\n",
        "################################################################################\n",
        "    \n",
        "# Print out results.\n",
        "for lr, reg in sorted(results):\n",
        "    train_accuracy, val_accuracy = results[(lr, reg)]\n",
        "    print('lr %e reg %e train accuracy: %f val accuracy: %f' % (\n",
        "                lr, reg, train_accuracy, val_accuracy))\n",
        "    \n",
        "print('best validation accuracy achieved during cross-validation: %f' % best_val)"
      ],
      "execution_count": 38,
      "outputs": [
        {
          "output_type": "stream",
          "text": [
            "Training SVM 1 out of 25\n",
            "\tVal Accuracy: 0.251\n",
            "Training SVM 2 out of 25\n",
            "\tVal Accuracy: 0.266\n",
            "Training SVM 3 out of 25\n",
            "\tVal Accuracy: 0.254\n",
            "Training SVM 4 out of 25\n",
            "\tVal Accuracy: 0.288\n",
            "Training SVM 5 out of 25\n",
            "\tVal Accuracy: 0.287\n",
            "Training SVM 6 out of 25\n",
            "\tVal Accuracy: 0.333\n",
            "Training SVM 7 out of 25\n",
            "\tVal Accuracy: 0.365\n",
            "Training SVM 8 out of 25\n",
            "\tVal Accuracy: 0.38\n",
            "Training SVM 9 out of 25\n",
            "\tVal Accuracy: 0.379\n",
            "Training SVM 10 out of 25\n",
            "\tVal Accuracy: 0.371\n",
            "Training SVM 11 out of 25\n",
            "\tVal Accuracy: 0.37\n",
            "Training SVM 12 out of 25\n",
            "\tVal Accuracy: 0.386\n",
            "Training SVM 13 out of 25\n",
            "\tVal Accuracy: 0.385\n",
            "Training SVM 14 out of 25\n",
            "\tVal Accuracy: 0.385\n",
            "Training SVM 15 out of 25\n",
            "\tVal Accuracy: 0.375\n",
            "Training SVM 16 out of 25\n",
            "\tVal Accuracy: 0.387\n",
            "Training SVM 17 out of 25\n",
            "\tVal Accuracy: 0.372\n",
            "Training SVM 18 out of 25\n",
            "\tVal Accuracy: 0.392\n",
            "Training SVM 19 out of 25\n",
            "\tVal Accuracy: 0.373\n",
            "Training SVM 20 out of 25\n",
            "\tVal Accuracy: 0.387\n",
            "Training SVM 21 out of 25\n",
            "\tVal Accuracy: 0.385\n",
            "Training SVM 22 out of 25\n",
            "\tVal Accuracy: 0.385\n",
            "Training SVM 23 out of 25\n",
            "\tVal Accuracy: 0.384\n",
            "Training SVM 24 out of 25\n",
            "\tVal Accuracy: 0.387\n",
            "Training SVM 25 out of 25\n",
            "\tVal Accuracy: 0.387\n",
            "lr 1.000000e-08 reg 1.000000e+04 train accuracy: 0.246612 val accuracy: 0.251000\n",
            "lr 1.000000e-08 reg 1.400000e+04 train accuracy: 0.257000 val accuracy: 0.266000\n",
            "lr 1.000000e-08 reg 1.800000e+04 train accuracy: 0.267306 val accuracy: 0.254000\n",
            "lr 1.000000e-08 reg 2.200000e+04 train accuracy: 0.271000 val accuracy: 0.288000\n",
            "lr 1.000000e-08 reg 2.600000e+04 train accuracy: 0.280898 val accuracy: 0.287000\n",
            "lr 2.800000e-08 reg 1.000000e+04 train accuracy: 0.331918 val accuracy: 0.333000\n",
            "lr 2.800000e-08 reg 1.400000e+04 train accuracy: 0.354020 val accuracy: 0.365000\n",
            "lr 2.800000e-08 reg 1.800000e+04 train accuracy: 0.364204 val accuracy: 0.380000\n",
            "lr 2.800000e-08 reg 2.200000e+04 train accuracy: 0.371653 val accuracy: 0.379000\n",
            "lr 2.800000e-08 reg 2.600000e+04 train accuracy: 0.370102 val accuracy: 0.371000\n",
            "lr 4.600000e-08 reg 1.000000e+04 train accuracy: 0.372816 val accuracy: 0.370000\n",
            "lr 4.600000e-08 reg 1.400000e+04 train accuracy: 0.378306 val accuracy: 0.386000\n",
            "lr 4.600000e-08 reg 1.800000e+04 train accuracy: 0.376429 val accuracy: 0.385000\n",
            "lr 4.600000e-08 reg 2.200000e+04 train accuracy: 0.375204 val accuracy: 0.385000\n",
            "lr 4.600000e-08 reg 2.600000e+04 train accuracy: 0.372020 val accuracy: 0.375000\n",
            "lr 6.400000e-08 reg 1.000000e+04 train accuracy: 0.382735 val accuracy: 0.387000\n",
            "lr 6.400000e-08 reg 1.400000e+04 train accuracy: 0.381224 val accuracy: 0.372000\n",
            "lr 6.400000e-08 reg 1.800000e+04 train accuracy: 0.377490 val accuracy: 0.392000\n",
            "lr 6.400000e-08 reg 2.200000e+04 train accuracy: 0.371816 val accuracy: 0.373000\n",
            "lr 6.400000e-08 reg 2.600000e+04 train accuracy: 0.374429 val accuracy: 0.387000\n",
            "lr 8.200000e-08 reg 1.000000e+04 train accuracy: 0.382776 val accuracy: 0.385000\n",
            "lr 8.200000e-08 reg 1.400000e+04 train accuracy: 0.382714 val accuracy: 0.385000\n",
            "lr 8.200000e-08 reg 1.800000e+04 train accuracy: 0.373469 val accuracy: 0.384000\n",
            "lr 8.200000e-08 reg 2.200000e+04 train accuracy: 0.370796 val accuracy: 0.387000\n",
            "lr 8.200000e-08 reg 2.600000e+04 train accuracy: 0.372898 val accuracy: 0.387000\n",
            "best validation accuracy achieved during cross-validation: 0.392000\n"
          ],
          "name": "stdout"
        }
      ]
    },
    {
      "metadata": {
        "id": "n7xztO16OMVx",
        "colab_type": "code",
        "colab": {
          "base_uri": "https://localhost:8080/",
          "height": 376
        },
        "outputId": "0874bbb6-36ad-4a04-98d7-22b1c4c97019"
      },
      "cell_type": "code",
      "source": [
        "# Visualize the cross-validation results\n",
        "import math\n",
        "x_scatter = [math.log10(x[0]) for x in results]\n",
        "y_scatter = [math.log10(x[1]) for x in results]\n",
        "\n",
        "# plot training accuracy\n",
        "marker_size = 100\n",
        "colors = [results[x][0] for x in results]\n",
        "plt.subplot(2, 1, 1)\n",
        "plt.scatter(x_scatter, y_scatter, marker_size, c=colors)\n",
        "plt.colorbar()\n",
        "plt.xlabel('log learning rate')\n",
        "plt.ylabel('log regularization strength')\n",
        "plt.title('CIFAR-10 training accuracy')\n",
        "\n",
        "# plot validation accuracy\n",
        "colors = [results[x][1] for x in results] # default size of markers is 20\n",
        "plt.subplot(2, 1, 2)\n",
        "plt.scatter(x_scatter, y_scatter, marker_size, c=colors)\n",
        "plt.colorbar()\n",
        "plt.xlabel('log learning rate')\n",
        "plt.ylabel('log regularization strength')\n",
        "plt.title('CIFAR-10 validation accuracy')\n",
        "plt.show()"
      ],
      "execution_count": 39,
      "outputs": [
        {
          "output_type": "display_data",
          "data": {
            "image/png": "[encoded data removed]",
            "text/plain": [
              "<matplotlib.figure.Figure at 0x7f39a47522e8>"
            ]
          },
          "metadata": {
            "tags": []
          }
        }
      ]
    },
    {
      "metadata": {
        "id": "z4dGOPlDOMV0",
        "colab_type": "code",
        "colab": {
          "base_uri": "https://localhost:8080/",
          "height": 34
        },
        "outputId": "0fdfaa53-310e-4d2d-beee-58aded38fe7d"
      },
      "cell_type": "code",
      "source": [
        "# Evaluate the best svm on test set\n",
        "y_test_pred = best_svm.predict(X_test)\n",
        "test_accuracy = np.mean(y_test == y_test_pred)\n",
        "print('linear SVM on raw pixels final test set accuracy: %f' % test_accuracy)"
      ],
      "execution_count": 40,
      "outputs": [
        {
          "output_type": "stream",
          "text": [
            "linear SVM on raw pixels final test set accuracy: 0.373000\n"
          ],
          "name": "stdout"
        }
      ]
    },
    {
      "metadata": {
        "id": "EWlGgq8tOMV2",
        "colab_type": "code",
        "colab": {
          "base_uri": "https://localhost:8080/",
          "height": 303
        },
        "outputId": "2e67317b-f77f-4679-ff2b-fb3f06824426"
      },
      "cell_type": "code",
      "source": [
        "# Visualize the learned weights for each class.\n",
        "# Depending on your choice of learning rate and regularization strength, these may\n",
        "# or may not be nice to look at.\n",
        "w = best_svm.W[:-1,:] # strip out the bias\n",
        "w = w.reshape(32, 32, 3, 10)\n",
        "w_min, w_max = np.min(w), np.max(w)\n",
        "classes = ['plane', 'car', 'bird', 'cat', 'deer', 'dog', 'frog', 'horse', 'ship', 'truck']\n",
        "for i in range(10):\n",
        "    plt.subplot(2, 5, i + 1)\n",
        "      \n",
        "    # Rescale the weights to be between 0 and 255\n",
        "    wimg = 255.0 * (w[:, :, :, i].squeeze() - w_min) / (w_max - w_min)\n",
        "    plt.imshow(wimg.astype('uint8'))\n",
        "    plt.axis('off')\n",
        "    plt.title(classes[i])"
      ],
      "execution_count": 41,
      "outputs": [
        {
          "output_type": "display_data",
          "data": {
            "image/png": "[encoded data removed]",
            "text/plain": [
              "<matplotlib.figure.Figure at 0x7f39a47a67b8>"
            ]
          },
          "metadata": {
            "tags": []
          }
        }
      ]
    },
    {
      "metadata": {
        "id": "ap5rrJ5sOMV7",
        "colab_type": "text"
      },
      "cell_type": "markdown",
      "source": [
        "### Inline question 2:\n",
        "Describe what your visualized SVM weights look like, and offer a brief explanation for why they look they way that they do.\n",
        "\n",
        "**Your answer:** The classifier is trying to learn what a car or deer or horse looks like from lots of different examples.  The weights that we see reflect the general patterns that it learns for each of the different classes.  It does get some of the qualities right, but it also is missing quite a bit."
      ]
    },
    {
      "metadata": {
        "id": "Ui5JMS-OfMOb",
        "colab_type": "text"
      },
      "cell_type": "markdown",
      "source": [
        "*Many thanks to Stanford CS231n for permission to use their materials!*"
      ]
    }
  ]
}